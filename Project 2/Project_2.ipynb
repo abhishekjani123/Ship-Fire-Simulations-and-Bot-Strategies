{
  "metadata": {
    "kernelspec": {
      "name": "python3",
      "display_name": "Python 3",
      "language": "python"
    },
    "language_info": {
      "name": "python",
      "version": "3.10.14",
      "mimetype": "text/x-python",
      "codemirror_mode": {
        "name": "ipython",
        "version": 3
      },
      "pygments_lexer": "ipython3",
      "nbconvert_exporter": "python",
      "file_extension": ".py"
    },
    "colab": {
      "provenance": [],
      "collapsed_sections": [
        "Y05JNX0GWL8q",
        "W6qIAM7lWSNY",
        "NwOw-AtDWngd",
        "C2EFv-TGXPFg",
        "gQCrnm81YT83"
      ]
    },
    "kaggle": {
      "accelerator": "nvidiaTeslaT4",
      "dataSources": [],
      "dockerImageVersionId": 30787,
      "isInternetEnabled": true,
      "language": "python",
      "sourceType": "notebook",
      "isGpuEnabled": true
    }
  },
  "nbformat_minor": 0,
  "nbformat": 4,
  "cells": [
    {
      "cell_type": "markdown",
      "source": [
        "# Libraries"
      ],
      "metadata": {
        "id": "Y05JNX0GWL8q"
      }
    },
    {
      "cell_type": "code",
      "source": [
        "import numpy as np\n",
        "import random\n",
        "import heapq\n",
        "import math\n",
        "import matplotlib.pyplot as plt\n",
        "from collections import defaultdict"
      ],
      "metadata": {
        "id": "u7KEFx0BWK7l",
        "trusted": true,
        "execution": {
          "iopub.status.busy": "2024-11-12T20:15:36.487755Z",
          "iopub.execute_input": "2024-11-12T20:15:36.488112Z",
          "iopub.status.idle": "2024-11-12T20:15:36.499046Z",
          "shell.execute_reply.started": "2024-11-12T20:15:36.488077Z",
          "shell.execute_reply": "2024-11-12T20:15:36.497942Z"
        }
      },
      "outputs": [],
      "execution_count": 1
    },
    {
      "cell_type": "markdown",
      "source": [
        "# Ship Design"
      ],
      "metadata": {
        "id": "W6qIAM7lWSNY"
      }
    },
    {
      "cell_type": "markdown",
      "source": [
        "## 1. Setting up the Grid Size and Sensitivity Parameter [Alpha]"
      ],
      "metadata": {
        "id": "Y9CSwKAp3MXs"
      }
    },
    {
      "cell_type": "code",
      "source": [
        "GRID_SIZE = 30\n",
        "alpha = 0.1  # Sensitivity parameter for the rat detector\n",
        "random.seed(42)"
      ],
      "metadata": {
        "id": "BzQViBDJWR1i",
        "trusted": true,
        "execution": {
          "iopub.status.busy": "2024-11-12T20:15:36.500907Z",
          "iopub.execute_input": "2024-11-12T20:15:36.501717Z",
          "iopub.status.idle": "2024-11-12T20:15:36.511023Z",
          "shell.execute_reply.started": "2024-11-12T20:15:36.501649Z",
          "shell.execute_reply": "2024-11-12T20:15:36.510202Z"
        }
      },
      "outputs": [],
      "execution_count": 2
    },
    {
      "cell_type": "markdown",
      "source": [
        "## 2. Intializing the Ship with an Open and Blocked Cells"
      ],
      "metadata": {
        "id": "JHgM3S1R3Kfz"
      }
    },
    {
      "cell_type": "code",
      "source": [
        "def initialize_ship():\n",
        "    grid = np.ones((GRID_SIZE, GRID_SIZE), dtype=int)\n",
        "    for i in range(1, GRID_SIZE - 1):\n",
        "        for j in range(1, GRID_SIZE - 1):\n",
        "            grid[i, j] = 0 if random.random() < 0.7 else 1  # 70% chance of being open cells in the layout\n",
        "    return grid\n",
        "\n",
        "# Initializing the ship layout\n",
        "ship_grid = initialize_ship()"
      ],
      "metadata": {
        "id": "oCNEipFuWQ0S",
        "trusted": true,
        "execution": {
          "iopub.status.busy": "2024-11-12T20:15:36.527017Z",
          "iopub.execute_input": "2024-11-12T20:15:36.527631Z",
          "iopub.status.idle": "2024-11-12T20:15:36.841378Z",
          "shell.execute_reply.started": "2024-11-12T20:15:36.5276Z",
          "shell.execute_reply": "2024-11-12T20:15:36.840554Z"
        }
      },
      "outputs": [],
      "execution_count": 3
    },
    {
      "cell_type": "code",
      "source": [
        "ship_grid"
      ],
      "metadata": {
        "colab": {
          "base_uri": "https://localhost:8080/"
        },
        "id": "7IGrLeUr4a4t",
        "outputId": "fd011d44-22f9-4f6f-eeb3-082d25f13ee3"
      },
      "execution_count": 4,
      "outputs": [
        {
          "output_type": "execute_result",
          "data": {
            "text/plain": [
              "array([[1, 1, 1, 1, 1, 1, 1, 1, 1, 1, 1, 1, 1, 1, 1, 1, 1, 1, 1, 1, 1, 1,\n",
              "        1, 1, 1, 1, 1, 1, 1, 1],\n",
              "       [1, 0, 0, 0, 0, 1, 0, 1, 0, 0, 0, 0, 0, 0, 0, 0, 0, 0, 0, 1, 0, 1,\n",
              "        0, 0, 0, 1, 0, 0, 0, 1],\n",
              "       [1, 1, 0, 1, 1, 0, 1, 0, 0, 1, 0, 1, 0, 1, 0, 0, 0, 0, 0, 0, 0, 0,\n",
              "        0, 0, 0, 0, 1, 0, 0, 1],\n",
              "       [1, 0, 1, 0, 0, 1, 0, 0, 0, 1, 1, 0, 0, 0, 0, 0, 1, 1, 0, 0, 0, 1,\n",
              "        0, 0, 0, 0, 0, 0, 1, 1],\n",
              "       [1, 0, 0, 1, 0, 0, 0, 0, 0, 1, 0, 0, 0, 1, 0, 1, 1, 0, 1, 0, 0, 0,\n",
              "        0, 0, 0, 0, 1, 1, 0, 1],\n",
              "       [1, 0, 0, 1, 1, 0, 0, 0, 0, 1, 0, 1, 0, 0, 0, 0, 1, 1, 1, 0, 0, 1,\n",
              "        1, 0, 0, 0, 1, 1, 0, 1],\n",
              "       [1, 0, 0, 0, 1, 0, 0, 0, 1, 0, 0, 1, 0, 0, 0, 0, 0, 0, 0, 0, 0, 0,\n",
              "        0, 0, 1, 1, 0, 0, 0, 1],\n",
              "       [1, 0, 0, 1, 0, 0, 1, 1, 0, 0, 0, 0, 0, 1, 0, 1, 0, 0, 0, 1, 0, 0,\n",
              "        0, 0, 0, 0, 1, 0, 1, 1],\n",
              "       [1, 0, 0, 1, 1, 1, 1, 1, 0, 0, 0, 0, 0, 0, 1, 0, 1, 0, 0, 1, 1, 0,\n",
              "        1, 0, 0, 1, 0, 0, 1, 1],\n",
              "       [1, 0, 0, 0, 1, 0, 1, 0, 0, 0, 0, 0, 0, 1, 0, 0, 0, 0, 0, 0, 1, 0,\n",
              "        1, 0, 0, 0, 0, 0, 1, 1],\n",
              "       [1, 0, 0, 1, 1, 0, 0, 0, 1, 1, 1, 0, 0, 1, 1, 0, 1, 0, 0, 1, 0, 0,\n",
              "        1, 0, 0, 0, 0, 0, 0, 1],\n",
              "       [1, 1, 0, 0, 0, 0, 1, 1, 0, 0, 0, 0, 1, 0, 0, 1, 0, 0, 0, 0, 1, 1,\n",
              "        0, 1, 0, 0, 0, 0, 1, 1],\n",
              "       [1, 1, 1, 1, 0, 0, 0, 1, 1, 0, 0, 0, 1, 1, 1, 1, 1, 0, 1, 0, 1, 1,\n",
              "        1, 1, 0, 1, 0, 1, 1, 1],\n",
              "       [1, 0, 1, 0, 0, 1, 0, 0, 0, 0, 1, 1, 0, 0, 0, 1, 0, 1, 0, 1, 0, 1,\n",
              "        0, 0, 0, 1, 0, 0, 0, 1],\n",
              "       [1, 0, 0, 0, 1, 0, 1, 0, 1, 1, 0, 0, 0, 0, 0, 0, 1, 1, 0, 0, 0, 0,\n",
              "        0, 0, 0, 1, 0, 1, 0, 1],\n",
              "       [1, 0, 0, 0, 0, 0, 0, 0, 0, 0, 0, 0, 1, 1, 0, 0, 0, 0, 0, 1, 1, 0,\n",
              "        0, 0, 0, 0, 0, 1, 0, 1],\n",
              "       [1, 0, 0, 0, 0, 0, 0, 0, 0, 1, 1, 0, 0, 0, 1, 0, 0, 0, 1, 0, 1, 0,\n",
              "        1, 0, 1, 1, 0, 1, 0, 1],\n",
              "       [1, 1, 0, 1, 1, 0, 0, 0, 0, 1, 0, 0, 0, 0, 0, 0, 0, 0, 0, 0, 0, 1,\n",
              "        0, 0, 0, 0, 0, 0, 1, 1],\n",
              "       [1, 0, 0, 1, 1, 0, 0, 0, 1, 1, 1, 0, 1, 0, 0, 0, 0, 0, 0, 0, 0, 0,\n",
              "        0, 0, 0, 0, 0, 0, 0, 1],\n",
              "       [1, 0, 0, 0, 0, 0, 0, 0, 0, 1, 0, 1, 1, 0, 0, 0, 0, 1, 0, 0, 1, 0,\n",
              "        1, 1, 0, 0, 0, 0, 0, 1],\n",
              "       [1, 0, 0, 0, 1, 0, 0, 1, 0, 1, 1, 0, 0, 0, 0, 1, 0, 1, 0, 0, 0, 0,\n",
              "        1, 1, 0, 0, 1, 1, 0, 1],\n",
              "       [1, 0, 0, 0, 0, 1, 1, 0, 1, 0, 1, 1, 0, 1, 1, 0, 1, 0, 0, 0, 1, 0,\n",
              "        1, 1, 0, 1, 0, 0, 0, 1],\n",
              "       [1, 0, 0, 1, 0, 0, 1, 0, 1, 1, 0, 0, 1, 0, 1, 0, 1, 0, 0, 0, 1, 0,\n",
              "        0, 0, 0, 0, 0, 0, 0, 1],\n",
              "       [1, 1, 0, 1, 0, 0, 0, 0, 0, 0, 1, 0, 0, 0, 1, 1, 0, 0, 0, 0, 0, 0,\n",
              "        0, 0, 0, 1, 0, 0, 0, 1],\n",
              "       [1, 1, 0, 1, 0, 0, 0, 0, 0, 1, 0, 1, 0, 0, 0, 0, 0, 0, 0, 1, 0, 1,\n",
              "        0, 1, 0, 0, 0, 0, 1, 1],\n",
              "       [1, 1, 0, 0, 0, 1, 1, 0, 0, 0, 0, 0, 0, 0, 0, 0, 0, 0, 1, 1, 0, 0,\n",
              "        1, 1, 0, 0, 1, 0, 0, 1],\n",
              "       [1, 0, 1, 1, 0, 0, 0, 1, 0, 0, 0, 0, 0, 1, 0, 0, 0, 0, 0, 0, 0, 0,\n",
              "        1, 1, 0, 1, 1, 0, 0, 1],\n",
              "       [1, 0, 1, 0, 0, 1, 0, 0, 0, 0, 0, 0, 0, 0, 1, 0, 0, 0, 1, 1, 0, 0,\n",
              "        0, 0, 1, 0, 0, 1, 0, 1],\n",
              "       [1, 0, 0, 0, 0, 1, 0, 1, 0, 0, 1, 0, 0, 0, 1, 0, 0, 0, 0, 0, 0, 1,\n",
              "        1, 0, 0, 1, 0, 1, 0, 1],\n",
              "       [1, 1, 1, 1, 1, 1, 1, 1, 1, 1, 1, 1, 1, 1, 1, 1, 1, 1, 1, 1, 1, 1,\n",
              "        1, 1, 1, 1, 1, 1, 1, 1]])"
            ]
          },
          "metadata": {},
          "execution_count": 4
        }
      ]
    },
    {
      "cell_type": "markdown",
      "source": [
        "## 3. Ship Layout"
      ],
      "metadata": {
        "id": "pbg-4yNz4Be1"
      }
    },
    {
      "cell_type": "code",
      "source": [
        "def plot_grid(grid, title=\"Ship Layout\"):\n",
        "    plt.figure(figsize=(8, 8))\n",
        "    plt.imshow(grid, cmap='binary', origin='upper')\n",
        "    plt.title(title)\n",
        "    plt.show()"
      ],
      "metadata": {
        "id": "pwRoQXD-4Kk9"
      },
      "execution_count": 5,
      "outputs": []
    },
    {
      "cell_type": "code",
      "source": [
        "plot_grid(ship_grid)"
      ],
      "metadata": {
        "colab": {
          "base_uri": "https://localhost:8080/",
          "height": 699
        },
        "id": "iy84RN_84gxW",
        "outputId": "d8b9b191-7a0f-4e27-a7d2-ff8f38044246"
      },
      "execution_count": 6,
      "outputs": [
        {
          "output_type": "display_data",
          "data": {
            "text/plain": [
              "<Figure size 800x800 with 1 Axes>"
            ],
            "image/png": "[encoded data removed]"
          },
          "metadata": {}
        }
      ]
    },
    {
      "cell_type": "markdown",
      "source": [
        "# Phase 1: Localisation"
      ],
      "metadata": {
        "id": "NwOw-AtDWngd"
      }
    },
    {
      "cell_type": "markdown",
      "source": [
        "## 1. 'sense_distances' Function:\n",
        "  *   This Function will sense distanes to blocked neighbors in all the four directions [up,down,left,right]\n",
        "  * This Function will return distances in form of Tuple\n",
        "\n",
        "\n"
      ],
      "metadata": {
        "id": "NGoydbvY4qiW"
      }
    },
    {
      "cell_type": "code",
      "source": [
        "def sense_distances(grid, pos):\n",
        "    x, y = pos\n",
        "    directions = {\n",
        "        \"up\": (-1, 0),\n",
        "        \"down\": (1, 0),\n",
        "        \"left\": (0, -1),\n",
        "        \"right\": (0, 1)\n",
        "    }\n",
        "\n",
        "    distances = []\n",
        "    for dx, dy in directions.values():\n",
        "        distance = 0\n",
        "        nx, ny = x + dx, y + dy\n",
        "        while 0 <= nx < GRID_SIZE and 0 <= ny < GRID_SIZE and grid[nx, ny] == 0:\n",
        "            distance += 1\n",
        "            nx += dx\n",
        "            ny += dy\n",
        "        distances.append(distance)\n",
        "    return tuple(distances)"
      ],
      "metadata": {
        "id": "jA7vgX_RWeE9",
        "trusted": true,
        "execution": {
          "iopub.status.busy": "2024-11-12T20:15:36.843461Z",
          "iopub.execute_input": "2024-11-12T20:15:36.844164Z",
          "iopub.status.idle": "2024-11-12T20:15:36.850889Z",
          "shell.execute_reply.started": "2024-11-12T20:15:36.844117Z",
          "shell.execute_reply": "2024-11-12T20:15:36.850075Z"
        }
      },
      "outputs": [],
      "execution_count": 7
    },
    {
      "cell_type": "markdown",
      "source": [
        "## 2. 'generate_distance_signatures' Function:\n",
        "* This function will genarate a distance signatures for each open cells in the map\n",
        "* This will create knowledge base for the bot to localised its position in the ship"
      ],
      "metadata": {
        "id": "c1MnMn3k6bZi"
      }
    },
    {
      "cell_type": "code",
      "source": [
        "def generate_distance_signatures(grid):\n",
        "    distance_signatures = {}\n",
        "    for x in range(1, GRID_SIZE - 1):\n",
        "        for y in range(1, GRID_SIZE - 1):\n",
        "            if grid[x, y] == 0:\n",
        "                signature = sense_distances(grid, (x, y))\n",
        "                if signature not in distance_signatures:\n",
        "                    distance_signatures[signature] = []\n",
        "                distance_signatures[signature].append((x, y))\n",
        "    return distance_signatures\n",
        "\n",
        "distance_signatures = generate_distance_signatures(ship_grid)"
      ],
      "metadata": {
        "id": "gM1R9M1xW00i",
        "trusted": true,
        "execution": {
          "iopub.status.busy": "2024-11-12T20:15:36.852424Z",
          "iopub.execute_input": "2024-11-12T20:15:36.852734Z",
          "iopub.status.idle": "2024-11-12T20:15:36.87123Z",
          "shell.execute_reply.started": "2024-11-12T20:15:36.852704Z",
          "shell.execute_reply": "2024-11-12T20:15:36.870536Z"
        }
      },
      "outputs": [],
      "execution_count": 8
    },
    {
      "cell_type": "code",
      "source": [
        "print(distance_signatures)"
      ],
      "metadata": {
        "id": "ejF6h6Z2W63m",
        "trusted": true,
        "execution": {
          "iopub.status.busy": "2024-11-12T20:15:36.873733Z",
          "iopub.execute_input": "2024-11-12T20:15:36.874175Z",
          "iopub.status.idle": "2024-11-12T20:15:36.886152Z",
          "shell.execute_reply.started": "2024-11-12T20:15:36.874126Z",
          "shell.execute_reply": "2024-11-12T20:15:36.885229Z"
        },
        "outputId": "b0f1cb58-07da-4c97-84ba-3ca5e5657265",
        "colab": {
          "base_uri": "https://localhost:8080/"
        }
      },
      "outputs": [
        {
          "output_type": "stream",
          "name": "stdout",
          "text": [
            "{(0, 0, 0, 3): [(1, 1), (11, 8), (11, 16), (20, 11)], (0, 1, 1, 2): [(1, 2), (5, 13), (20, 12), (24, 25)], (0, 0, 2, 1): [(1, 3), (13, 8), (20, 20), (27, 22)], (0, 0, 3, 0): [(1, 4)], (0, 0, 0, 0): [(1, 6), (2, 5), (4, 17), (11, 22), (13, 16), (19, 10), (21, 9)], (0, 4, 0, 10): [(1, 8)], (0, 0, 1, 9): [(1, 9)], (0, 1, 2, 8): [(1, 10)], (0, 0, 3, 7): [(1, 11)], (0, 9, 4, 6): [(1, 12)], (0, 0, 5, 5): [(1, 13)], (0, 6, 6, 4): [(1, 14)], (0, 2, 7, 3): [(1, 15), (15, 8)], (0, 1, 8, 2): [(1, 16)], (0, 1, 9, 1): [(1, 17)], (0, 2, 10, 0): [(1, 18)], (0, 6, 0, 0): [(1, 20), (14, 5)], (0, 3, 0, 2): [(1, 22), (3, 6), (21, 26)], (0, 9, 1, 1): [(1, 23)], (0, 4, 2, 0): [(1, 24), (16, 13)], (0, 0, 0, 2): [(1, 26), (6, 26)], (0, 2, 1, 1): [(1, 27)], (0, 1, 2, 0): [(1, 28), (12, 6)], (1, 0, 0, 0): [(2, 2), (2, 10), (12, 19), (20, 8), (21, 12), (22, 15), (28, 26)], (0, 4, 0, 1): [(2, 7), (18, 1)], (1, 3, 1, 0): [(2, 8)], (1, 8, 0, 0): [(2, 12)], (1, 5, 0, 11): [(2, 14)], (1, 1, 1, 10): [(2, 15)], (1, 0, 2, 9): [(2, 16)], (1, 0, 3, 8): [(2, 17), (6, 15)], (1, 1, 4, 7): [(2, 18)], (0, 4, 5, 6): [(2, 19)], (1, 5, 6, 5): [(2, 20)], (0, 0, 7, 4): [(2, 21)], (1, 2, 8, 3): [(2, 22)], (1, 8, 9, 2): [(2, 23)], (1, 3, 10, 1): [(2, 24)], (0, 3, 11, 0): [(2, 25)], (1, 1, 0, 1): [(2, 27)], (1, 0, 1, 0): [(2, 28), (25, 25)], (0, 7, 0, 0): [(3, 1), (16, 19)], (0, 0, 0, 1): [(3, 3), (7, 4), (10, 20), (11, 13), (22, 10), (27, 25)], (0, 1, 1, 0): [(3, 4), (22, 11), (27, 26)], (1, 3, 1, 1): [(3, 7), (3, 19)], (2, 2, 2, 0): [(3, 8)], (0, 1, 0, 4): [(3, 11)], (2, 7, 1, 3): [(3, 12)], (0, 0, 2, 2): [(3, 13)], (2, 4, 3, 1): [(3, 14)], (2, 0, 4, 0): [(3, 15), (15, 18)], (2, 0, 0, 2): [(3, 18)], (2, 4, 2, 0): [(3, 20)], (2, 1, 0, 5): [(3, 22)], (2, 7, 1, 4): [(3, 23)], (2, 2, 2, 3): [(3, 24)], (1, 2, 3, 2): [(3, 25)], (0, 0, 4, 1): [(3, 26), (15, 25), (28, 19)], (2, 0, 5, 0): [(3, 27)], (1, 6, 0, 1): [(4, 1), (22, 4)], (0, 7, 1, 0): [(4, 2)], (1, 0, 0, 4): [(4, 4)], (0, 3, 1, 3): [(4, 5)], (1, 2, 2, 2): [(4, 6)], (2, 2, 3, 1): [(4, 7)], (3, 1, 4, 0): [(4, 8)], (0, 5, 0, 2): [(4, 10)], (1, 0, 1, 1): [(4, 11), (12, 10)], (3, 6, 2, 0): [(4, 12)], (3, 3, 0, 0): [(4, 14)], (2, 2, 0, 6): [(4, 19)], (3, 3, 1, 5): [(4, 20)], (0, 0, 2, 4): [(4, 21)], (3, 0, 3, 3): [(4, 22)], (3, 6, 4, 2): [(4, 23)], (3, 1, 5, 1): [(4, 24)], (2, 1, 6, 0): [(4, 25)], (0, 2, 0, 0): [(4, 28), (8, 15), (13, 18), (26, 1)], (2, 5, 0, 1): [(5, 1), (19, 18)], (1, 6, 1, 0): [(5, 2)], (1, 2, 0, 3): [(5, 5)], (2, 1, 1, 2): [(5, 6), (19, 14)], (3, 1, 2, 1): [(5, 7)], (4, 0, 3, 0): [(5, 8)], (1, 4, 0, 0): [(5, 10), (7, 27), (19, 21), (24, 20)], (4, 5, 0, 3): [(5, 12)], (4, 2, 2, 1): [(5, 14), (17, 7)], (0, 1, 3, 0): [(5, 15), (11, 19), (27, 23)], (3, 1, 0, 1): [(5, 19)], (4, 2, 1, 0): [(5, 20)], (4, 5, 0, 2): [(5, 23)], (4, 0, 1, 1): [(5, 24)], (3, 0, 2, 0): [(5, 25)], (1, 1, 0, 0): [(5, 28), (27, 1)], (3, 4, 0, 2): [(6, 1)], (2, 5, 1, 1): [(6, 2)], (0, 0, 2, 0): [(6, 3), (9, 3)], (2, 1, 0, 2): [(6, 5), (23, 26)], (3, 0, 1, 1): [(6, 6), (12, 5)], (4, 0, 2, 0): [(6, 7)], (0, 3, 0, 1): [(6, 9), (13, 3)], (2, 3, 1, 0): [(6, 10), (8, 18), (8, 27)], (5, 4, 0, 11): [(6, 12)], (1, 0, 1, 10): [(6, 13)], (5, 1, 2, 9): [(6, 14)], (0, 1, 4, 7): [(6, 16)], (0, 6, 5, 6): [(6, 17)], (0, 5, 6, 5): [(6, 18)], (4, 0, 7, 4): [(6, 19)], (5, 1, 8, 3): [(6, 20)], (0, 4, 9, 2): [(6, 21)], (0, 1, 10, 1): [(6, 22)], (5, 4, 11, 0): [(6, 23)], (0, 5, 1, 1): [(6, 27), (13, 23), (21, 27), (23, 12)], (2, 0, 2, 0): [(6, 28)], (4, 3, 0, 1): [(7, 1)], (3, 4, 1, 0): [(7, 2), (19, 19)], (3, 0, 1, 0): [(7, 5), (20, 25), (28, 9)], (0, 2, 0, 4): [(7, 8)], (1, 2, 1, 3): [(7, 9), (26, 9)], (3, 2, 2, 2): [(7, 10)], (0, 5, 3, 1): [(7, 11)], (6, 3, 4, 0): [(7, 12)], (6, 0, 0, 0): [(7, 14), (12, 17)], (1, 0, 0, 2): [(7, 16), (23, 11)], (1, 5, 1, 1): [(7, 17)], (1, 4, 2, 0): [(7, 18)], (6, 0, 0, 5): [(7, 20)], (1, 3, 1, 4): [(7, 21)], (1, 0, 2, 3): [(7, 22), (14, 12)], (6, 3, 3, 2): [(7, 23)], (0, 8, 4, 1): [(7, 24)], (0, 0, 5, 0): [(7, 25), (8, 13), (9, 19), (10, 28), (23, 9)], (5, 2, 0, 1): [(8, 1)], (4, 3, 1, 0): [(8, 2)], (1, 1, 0, 5): [(8, 8), (15, 21)], (2, 1, 1, 4): [(8, 9)], (4, 1, 2, 3): [(8, 10)], (1, 4, 3, 2): [(8, 11)], (7, 2, 4, 1): [(8, 12)], (2, 4, 0, 1): [(8, 17)], (2, 2, 0, 0): [(8, 21)], (7, 2, 0, 1): [(8, 23)], (1, 7, 1, 0): [(8, 24)], (0, 11, 0, 1): [(8, 26)], (6, 1, 0, 2): [(9, 1)], (5, 2, 1, 1): [(9, 2), (22, 18)], (0, 3, 0, 0): [(9, 5), (13, 1), (22, 13), (24, 10)], (0, 1, 0, 5): [(9, 7), (14, 10), (17, 22)], (2, 0, 1, 4): [(9, 8), (15, 22)], (3, 0, 2, 3): [(9, 9)], (5, 0, 3, 2): [(9, 10)], (2, 3, 4, 1): [(9, 11)], (8, 1, 5, 0): [(9, 12)], (0, 0, 0, 5): [(9, 14)], (1, 1, 1, 4): [(9, 15), (23, 5)], (0, 0, 2, 3): [(9, 16)], (3, 3, 3, 2): [(9, 17)], (3, 2, 4, 1): [(9, 18)], (3, 1, 0, 0): [(9, 21)], (8, 1, 0, 4): [(9, 23)], (2, 6, 1, 3): [(9, 24)], (0, 2, 2, 2): [(9, 25)], (1, 10, 3, 1): [(9, 26)], (3, 2, 4, 0): [(9, 27), (26, 12)], (7, 0, 0, 1): [(10, 1)], (6, 1, 1, 0): [(10, 2), (27, 4)], (1, 2, 0, 2): [(10, 5), (14, 1)], (0, 0, 1, 1): [(10, 6), (13, 27), (25, 3), (26, 5)], (1, 0, 2, 0): [(10, 7), (28, 13)], (3, 2, 0, 1): [(10, 11)], (9, 0, 1, 0): [(10, 12)], (2, 0, 0, 0): [(10, 15), (16, 21), (24, 22), (28, 6)], (4, 2, 0, 1): [(10, 17)], (4, 1, 1, 0): [(10, 18)], (4, 0, 1, 0): [(10, 21)], (9, 0, 0, 5): [(10, 23)], (3, 5, 1, 4): [(10, 24)], (1, 1, 2, 3): [(10, 25)], (2, 9, 3, 2): [(10, 26)], (4, 1, 4, 1): [(10, 27)], (7, 0, 0, 3): [(11, 2)], (0, 0, 1, 2): [(11, 3), (28, 2)], (0, 2, 2, 1): [(11, 4)], (2, 1, 3, 0): [(11, 5)], (0, 2, 1, 2): [(11, 9)], (0, 1, 2, 1): [(11, 10)], (4, 1, 3, 0): [(11, 11), (19, 16)], (0, 0, 1, 0): [(11, 14), (28, 24)], (5, 1, 1, 2): [(11, 17)], (5, 0, 2, 1): [(11, 18), (19, 15)], (4, 4, 0, 3): [(11, 24)], (2, 0, 1, 2): [(11, 25), (27, 21)], (3, 8, 2, 1): [(11, 26)], (5, 0, 3, 0): [(11, 27)], (1, 1, 0, 2): [(12, 4), (12, 9)], (5, 0, 2, 0): [(12, 11), (23, 28)], (5, 3, 0, 0): [(12, 24)], (4, 7, 0, 0): [(12, 26)], (2, 0, 1, 0): [(13, 4)], (1, 0, 0, 3): [(13, 6)], (0, 6, 1, 2): [(13, 7)], (2, 0, 3, 0): [(13, 9), (17, 8)], (0, 1, 0, 2): [(13, 12)], (0, 1, 1, 1): [(13, 13), (16, 12)], (0, 2, 2, 0): [(13, 14), (26, 6)], (0, 1, 0, 0): [(13, 20), (21, 15)], (0, 2, 0, 2): [(13, 22)], (6, 2, 2, 0): [(13, 24)], (5, 6, 0, 2): [(13, 26)], (0, 3, 2, 0): [(13, 28)], (0, 11, 1, 1): [(14, 2)], (1, 2, 2, 0): [(14, 3), (16, 17), (23, 13)], (1, 5, 0, 0): [(14, 7)], (0, 4, 1, 4): [(14, 11)], (1, 0, 3, 2): [(14, 13)], (1, 1, 4, 1): [(14, 14)], (0, 5, 5, 0): [(14, 15)], (1, 1, 0, 6): [(14, 18)], (0, 0, 1, 5): [(14, 19)], (1, 0, 2, 4): [(14, 20)], (0, 2, 3, 3): [(14, 21)], (1, 1, 4, 2): [(14, 22)], (1, 4, 5, 1): [(14, 23)], (7, 1, 6, 0): [(14, 24)], (6, 5, 0, 0): [(14, 26)], (1, 2, 0, 0): [(14, 28)], (2, 1, 0, 10): [(15, 1)], (1, 10, 1, 9): [(15, 2)], (2, 1, 2, 8): [(15, 3)], (0, 1, 3, 7): [(15, 4)], (1, 5, 4, 6): [(15, 5)], (0, 5, 5, 5): [(15, 6)], (2, 4, 6, 4): [(15, 7)], (0, 0, 8, 2): [(15, 9)], (1, 0, 9, 1): [(15, 10)], (1, 3, 10, 0): [(15, 11)], (2, 0, 0, 4): [(15, 14)], (1, 4, 1, 3): [(15, 15)], (0, 5, 2, 2): [(15, 16)], (0, 3, 3, 1): [(15, 17)], (2, 3, 2, 3): [(15, 23)], (8, 0, 3, 2): [(15, 24)], (7, 4, 5, 0): [(15, 26)], (2, 1, 0, 0): [(15, 28), (27, 28)], (3, 0, 0, 7): [(16, 1)], (2, 9, 1, 6): [(16, 2)], (3, 0, 2, 5): [(16, 3)], (1, 0, 3, 4): [(16, 4)], (2, 4, 4, 3): [(16, 5)], (1, 4, 5, 2): [(16, 6)], (3, 3, 6, 1): [(16, 7)], (1, 1, 7, 0): [(16, 8), (26, 21)], (2, 2, 0, 2): [(16, 11), (20, 1)], (2, 3, 0, 2): [(16, 15)], (1, 4, 1, 1): [(16, 16)], (3, 2, 0, 0): [(16, 23), (21, 21)], (8, 3, 0, 0): [(16, 26)], (3, 0, 0, 0): [(16, 28), (28, 28)], (3, 8, 0, 0): [(17, 2)], (3, 3, 0, 3): [(17, 5)], (2, 3, 1, 2): [(17, 6)], (0, 0, 0, 10): [(17, 10)], (3, 1, 1, 9): [(17, 11)], (1, 0, 2, 8): [(17, 12)], (1, 3, 3, 7): [(17, 13)], (0, 3, 4, 6): [(17, 14), (25, 11)], (3, 2, 5, 5): [(17, 15)], (2, 3, 6, 4): [(17, 16)], (2, 1, 7, 3): [(17, 17)], (0, 7, 8, 2): [(17, 18)], (1, 6, 9, 1): [(17, 19)], (0, 1, 10, 0): [(17, 20)], (4, 1, 1, 4): [(17, 23)], (0, 9, 2, 3): [(17, 24)], (0, 3, 3, 2): [(17, 25)], (9, 2, 4, 1): [(17, 26)], (0, 2, 5, 0): [(17, 27)], (4, 7, 1, 0): [(18, 2)], (4, 2, 0, 2): [(18, 5)], (3, 2, 1, 1): [(18, 6)], (5, 1, 2, 0): [(18, 7)], (4, 0, 0, 0): [(18, 11)], (2, 2, 0, 15): [(18, 13)], (1, 2, 1, 14): [(18, 14)], (4, 1, 2, 13): [(18, 15)], (3, 2, 3, 12): [(18, 16)], (3, 0, 4, 11): [(18, 17)], (1, 6, 5, 10): [(18, 18)], (2, 5, 6, 9): [(18, 19)], (1, 0, 7, 8): [(18, 20)], (0, 5, 8, 7): [(18, 21)], (1, 0, 9, 6): [(18, 22)], (5, 0, 10, 5): [(18, 23)], (1, 8, 11, 4): [(18, 24)], (1, 2, 12, 3): [(18, 25)], (10, 1, 13, 2): [(18, 26)], (1, 1, 14, 1): [(18, 27)], (0, 5, 15, 0): [(18, 28)], (1, 3, 0, 7): [(19, 1)], (5, 6, 1, 6): [(19, 2)], (0, 2, 2, 5): [(19, 3)], (0, 0, 3, 4): [(19, 4)], (5, 1, 4, 3): [(19, 5)], (4, 1, 5, 2): [(19, 6)], (6, 0, 6, 1): [(19, 7)], (0, 1, 7, 0): [(19, 8), (27, 13)], (3, 1, 0, 3): [(19, 13), (21, 1)], (2, 7, 0, 4): [(19, 24)], (2, 1, 1, 3): [(19, 25)], (11, 0, 2, 2): [(19, 26)], (2, 0, 3, 1): [(19, 27)], (1, 4, 4, 0): [(19, 28), (24, 8)], (6, 5, 1, 1): [(20, 2)], (1, 1, 2, 0): [(20, 3)], (6, 0, 0, 1): [(20, 5)], (5, 0, 1, 0): [(20, 6)], (4, 0, 2, 1): [(20, 13)], (3, 0, 3, 0): [(20, 14)], (5, 0, 0, 0): [(20, 16)], (3, 4, 0, 3): [(20, 18)], (4, 3, 1, 2): [(20, 19)], (2, 3, 3, 0): [(20, 21)], (3, 6, 0, 1): [(20, 24)], (2, 3, 0, 0): [(20, 28)], (7, 4, 1, 2): [(21, 2)], (2, 0, 2, 1): [(21, 3)], (0, 7, 3, 0): [(21, 4)], (0, 4, 0, 0): [(21, 7)], (0, 7, 0, 2): [(21, 17)], (4, 3, 1, 1): [(21, 18)], (5, 2, 2, 0): [(21, 19)], (4, 5, 0, 0): [(21, 24)], (3, 2, 2, 0): [(21, 28)], (4, 0, 0, 1): [(22, 1)], (8, 3, 1, 0): [(22, 2)], (0, 2, 1, 0): [(22, 5), (25, 21)], (1, 3, 0, 0): [(22, 7)], (1, 6, 0, 2): [(22, 17)], (6, 1, 2, 0): [(22, 19), (27, 17)], (4, 1, 0, 7): [(22, 21)], (0, 2, 1, 6): [(22, 22)], (0, 1, 2, 5): [(22, 23)], (5, 4, 3, 4): [(22, 24)], (0, 0, 4, 3): [(22, 25), (26, 18)], (1, 2, 5, 2): [(22, 26)], (1, 4, 6, 1): [(22, 27)], (4, 1, 7, 0): [(22, 28)], (9, 2, 0, 0): [(23, 2)], (2, 5, 0, 5): [(23, 4)], (0, 1, 2, 3): [(23, 6)], (2, 2, 3, 2): [(23, 7)], (0, 5, 4, 1): [(23, 8)], (0, 5, 0, 8): [(23, 16)], (2, 5, 1, 7): [(23, 17)], (6, 1, 2, 6): [(23, 18)], (7, 0, 3, 5): [(23, 19)], (0, 5, 4, 4): [(23, 20)], (5, 0, 5, 3): [(23, 21)], (1, 1, 6, 2): [(23, 22)], (1, 0, 7, 1): [(23, 23)], (6, 3, 8, 0): [(23, 24)], (2, 3, 1, 1): [(23, 27)], (10, 1, 0, 0): [(24, 2)], (3, 4, 0, 4): [(24, 4)], (2, 0, 1, 3): [(24, 5)], (1, 0, 2, 2): [(24, 6)], (3, 1, 3, 1): [(24, 7)], (1, 4, 0, 6): [(24, 12)], (2, 1, 1, 5): [(24, 13)], (0, 2, 2, 4): [(24, 14)], (0, 4, 3, 3): [(24, 15)], (1, 4, 4, 2): [(24, 16)], (3, 4, 5, 1): [(24, 17)], (7, 0, 6, 0): [(24, 18)], (7, 2, 0, 3): [(24, 24)], (3, 0, 2, 1): [(24, 26)], (3, 2, 3, 0): [(24, 27)], (11, 0, 0, 2): [(25, 2)], (4, 3, 2, 0): [(25, 4)], (4, 0, 0, 10): [(25, 7)], (2, 3, 1, 9): [(25, 8)], (0, 3, 2, 8): [(25, 9)], (1, 2, 3, 7): [(25, 10)], (2, 3, 5, 5): [(25, 12)], (3, 0, 6, 4): [(25, 13)], (1, 1, 7, 3): [(25, 14)], (1, 3, 8, 2): [(25, 15)], (2, 3, 9, 1): [(25, 16)], (4, 3, 10, 0): [(25, 17)], (2, 3, 0, 1): [(25, 20)], (8, 1, 0, 1): [(25, 24)], (4, 1, 0, 1): [(25, 27)], (0, 3, 1, 0): [(25, 28)], (5, 2, 0, 2): [(26, 4)], (3, 2, 0, 4): [(26, 8)], (2, 1, 2, 2): [(26, 10)], (1, 2, 3, 1): [(26, 11)], (2, 0, 0, 7): [(26, 14)], (2, 2, 1, 6): [(26, 15)], (3, 2, 2, 5): [(26, 16)], (5, 2, 3, 4): [(26, 17)], (0, 0, 5, 2): [(26, 19)], (3, 2, 6, 1): [(26, 20)], (9, 0, 0, 0): [(26, 24)], (5, 0, 0, 1): [(26, 27), (28, 8)], (1, 2, 1, 0): [(26, 28)], (0, 1, 0, 1): [(27, 3)], (1, 1, 0, 7): [(27, 6)], (0, 0, 1, 6): [(27, 7)], (4, 1, 2, 5): [(27, 8)], (2, 1, 3, 4): [(27, 9)], (3, 0, 4, 3): [(27, 10)], (2, 1, 5, 2): [(27, 11)], (4, 1, 6, 1): [(27, 12)], (3, 1, 0, 2): [(27, 15)], (4, 1, 1, 1): [(27, 16)], (4, 1, 0, 3): [(27, 20)], (2, 0, 0, 3): [(28, 1)], (1, 0, 2, 1): [(28, 3)], (7, 0, 3, 0): [(28, 4)], (3, 0, 0, 2): [(28, 11)], (5, 0, 1, 1): [(28, 12)], (4, 0, 0, 5): [(28, 15)], (5, 0, 1, 4): [(28, 16)], (7, 0, 2, 3): [(28, 17)], (0, 0, 3, 2): [(28, 18)], (5, 0, 5, 0): [(28, 20)], (1, 0, 0, 1): [(28, 23)]}\n"
          ]
        }
      ],
      "execution_count": 9
    },
    {
      "cell_type": "markdown",
      "source": [
        "## 3. 'attempt_random_move' Funtion:\n",
        "* This function is basically used for the bot movement as it will attempt to move and update its position."
      ],
      "metadata": {
        "id": "p_wH0wRl7aF-"
      }
    },
    {
      "cell_type": "code",
      "source": [
        "def attempt_random_move(grid, position):\n",
        "    x, y = position\n",
        "    directions = [(0, 1), (0, -1), (1, 0), (-1, 0)]  # Right, Left, Down, Up\n",
        "    random.shuffle(directions)\n",
        "    for dx, dy in directions:\n",
        "        nx, ny = x + dx, y + dy\n",
        "        if 0 <= nx < GRID_SIZE and 0 <= ny < GRID_SIZE and grid[nx, ny] == 0:\n",
        "            return (nx, ny)\n",
        "    return position"
      ],
      "metadata": {
        "id": "LZBwpTuFW8oG",
        "trusted": true,
        "execution": {
          "iopub.status.busy": "2024-11-12T20:15:36.887303Z",
          "iopub.execute_input": "2024-11-12T20:15:36.887614Z",
          "iopub.status.idle": "2024-11-12T20:15:36.896121Z",
          "shell.execute_reply.started": "2024-11-12T20:15:36.887583Z",
          "shell.execute_reply": "2024-11-12T20:15:36.895241Z"
        }
      },
      "outputs": [],
      "execution_count": 10
    },
    {
      "cell_type": "markdown",
      "source": [
        "## 4. Localisation Function:\n",
        "\n",
        "* This function will tried to help the bot to find its intial position on the ship."
      ],
      "metadata": {
        "id": "G-nVsZdu8A8G"
      }
    },
    {
      "cell_type": "code",
      "source": [
        "def localize_bot_with_random_movement(grid, distance_signatures):\n",
        "    current_position = random.choice([loc for sig in distance_signatures.values() for loc in sig])\n",
        "    steps = 0\n",
        "    while True:\n",
        "        sensed_signature = sense_distances(grid, current_position)\n",
        "        if sensed_signature in distance_signatures:\n",
        "            possible_positions = distance_signatures[sensed_signature]\n",
        "            print(f\"Step {steps + 1}: Sensed Signature: {sensed_signature}, Possible Locations: {len(possible_positions)}\")\n",
        "            if len(possible_positions) == 1:\n",
        "                print(\"Bot's position has been identified:\", possible_positions[0])\n",
        "                return possible_positions[0]\n",
        "            current_position = attempt_random_move(grid, current_position)\n",
        "        steps += 1\n",
        "\n",
        "bot_position = localize_bot_with_random_movement(ship_grid, distance_signatures)"
      ],
      "metadata": {
        "id": "bWBJRPoCXB3u",
        "trusted": true,
        "execution": {
          "iopub.status.busy": "2024-11-12T20:15:36.897176Z",
          "iopub.execute_input": "2024-11-12T20:15:36.897479Z",
          "iopub.status.idle": "2024-11-12T20:15:36.908397Z",
          "shell.execute_reply.started": "2024-11-12T20:15:36.897448Z",
          "shell.execute_reply": "2024-11-12T20:15:36.90752Z"
        },
        "outputId": "3b9e04d8-6ba8-47d8-b745-5ae75fc3d0ba",
        "colab": {
          "base_uri": "https://localhost:8080/"
        }
      },
      "outputs": [
        {
          "output_type": "stream",
          "name": "stdout",
          "text": [
            "Step 1: Sensed Signature: (0, 0, 1, 2), Possible Locations: 2\n",
            "Step 2: Sensed Signature: (1, 0, 2, 1), Possible Locations: 1\n",
            "Bot's position has been identified: (28, 3)\n"
          ]
        }
      ],
      "execution_count": 11
    },
    {
      "cell_type": "markdown",
      "source": [
        "# Phase 2 : Catching Rat"
      ],
      "metadata": {
        "id": "C2EFv-TGXPFg"
      }
    },
    {
      "cell_type": "markdown",
      "source": [
        "## 1. Intializing Rat's Position:\n",
        "* While initializing the rat's positon we are also ensuring that every time the rat is place in the open cells of the grid"
      ],
      "metadata": {
        "id": "VtQVD_Y-Xow_"
      }
    },
    {
      "cell_type": "code",
      "source": [
        "#rat_position = (random.randint(1, GRID_SIZE - 2), random.randint(1, GRID_SIZE - 2))\n",
        "\n",
        "# Ensure the rat is only placed in open cells\n",
        "while True:\n",
        "    rat_position = (random.randint(1, GRID_SIZE - 2), random.randint(1, GRID_SIZE - 2))\n",
        "    if ship_grid[rat_position] == 0:  # Check if the cell is open\n",
        "        break\n",
        "\n",
        "prob_grid = np.full((GRID_SIZE, GRID_SIZE), 1 / (GRID_SIZE * GRID_SIZE))"
      ],
      "metadata": {
        "id": "AbAjEzCkXOsz",
        "trusted": true,
        "execution": {
          "iopub.status.busy": "2024-11-12T20:15:36.909686Z",
          "iopub.execute_input": "2024-11-12T20:15:36.910303Z",
          "iopub.status.idle": "2024-11-12T20:15:36.917913Z",
          "shell.execute_reply.started": "2024-11-12T20:15:36.910269Z",
          "shell.execute_reply": "2024-11-12T20:15:36.917119Z"
        }
      },
      "outputs": [],
      "execution_count": 12
    },
    {
      "cell_type": "markdown",
      "source": [
        "## 2. Ship Updated Design with Bot and Rat:"
      ],
      "metadata": {
        "id": "Z7uwCUY-ZGXW"
      }
    },
    {
      "cell_type": "code",
      "source": [
        "def plot_grid_with_positions(grid, bot_position, rat_position, title=\"Ship Layout with Bot and Rat Positions\"):\n",
        "    plt.figure(figsize=(8, 8))\n",
        "    plt.imshow(grid, cmap='binary', origin='upper')\n",
        "    plt.scatter(bot_position[1], bot_position[0], color='blue', label='Bot', s=100, edgecolors='black')  # Bot in blue\n",
        "    plt.scatter(rat_position[1], rat_position[0], color='red', label='Rat', s=100, marker='x')  # Rat in red\n",
        "    plt.legend(loc=\"upper right\")\n",
        "    plt.title(title)\n",
        "    plt.show()"
      ],
      "metadata": {
        "id": "-eHHrD3GZL3e",
        "trusted": true,
        "execution": {
          "iopub.status.busy": "2024-11-12T20:15:36.918796Z",
          "iopub.execute_input": "2024-11-12T20:15:36.919064Z",
          "iopub.status.idle": "2024-11-12T20:15:36.932186Z",
          "shell.execute_reply.started": "2024-11-12T20:15:36.919035Z",
          "shell.execute_reply": "2024-11-12T20:15:36.9313Z"
        }
      },
      "outputs": [],
      "execution_count": 13
    },
    {
      "cell_type": "code",
      "source": [
        "plot_grid_with_positions(ship_grid, bot_position, rat_position)"
      ],
      "metadata": {
        "id": "LwsrMIDFZNQM",
        "trusted": true,
        "execution": {
          "iopub.status.busy": "2024-11-12T20:15:36.933331Z",
          "iopub.execute_input": "2024-11-12T20:15:36.933657Z",
          "iopub.status.idle": "2024-11-12T20:15:37.29409Z",
          "shell.execute_reply.started": "2024-11-12T20:15:36.933625Z",
          "shell.execute_reply": "2024-11-12T20:15:37.292724Z"
        },
        "outputId": "1941f08a-b661-49e3-d3cb-03596084ed4c",
        "colab": {
          "base_uri": "https://localhost:8080/",
          "height": 699
        }
      },
      "outputs": [
        {
          "output_type": "display_data",
          "data": {
            "text/plain": [
              "<Figure size 800x800 with 1 Axes>"
            ],
            "image/png": "[encoded data removed]"
          },
          "metadata": {}
        }
      ],
      "execution_count": 14
    },
    {
      "cell_type": "markdown",
      "source": [
        "## 3. Manhattan Distance"
      ],
      "metadata": {
        "id": "oAQDfJ_RXyhb"
      }
    },
    {
      "cell_type": "code",
      "source": [
        "def manhattan_distance(cell1, cell2):\n",
        "    return abs(cell1[0] - cell2[0]) + abs(cell1[1] - cell2[1])"
      ],
      "metadata": {
        "id": "iDVboXGeXDUy",
        "trusted": true,
        "execution": {
          "iopub.status.busy": "2024-11-12T20:15:37.298689Z",
          "iopub.execute_input": "2024-11-12T20:15:37.299017Z",
          "iopub.status.idle": "2024-11-12T20:15:37.304742Z",
          "shell.execute_reply.started": "2024-11-12T20:15:37.298981Z",
          "shell.execute_reply": "2024-11-12T20:15:37.303551Z"
        }
      },
      "outputs": [],
      "execution_count": 15
    },
    {
      "cell_type": "markdown",
      "source": [
        "## 4. Ping Probability Function:\n",
        "* This Function will calculate probability of hearing a ping based on the distance"
      ],
      "metadata": {
        "id": "ztVppVnWX323"
      }
    },
    {
      "cell_type": "code",
      "source": [
        "def ping_probability(distance, alpha):\n",
        "    return math.exp(-alpha * (distance - 1))"
      ],
      "metadata": {
        "id": "x4MiKyVXX1Th",
        "trusted": true,
        "execution": {
          "iopub.status.busy": "2024-11-12T20:15:37.306311Z",
          "iopub.execute_input": "2024-11-12T20:15:37.306812Z",
          "iopub.status.idle": "2024-11-12T20:15:37.315639Z",
          "shell.execute_reply.started": "2024-11-12T20:15:37.306777Z",
          "shell.execute_reply": "2024-11-12T20:15:37.314628Z"
        }
      },
      "outputs": [],
      "execution_count": 16
    },
    {
      "cell_type": "code",
      "source": [
        "# Update probability grid based on ping result\n",
        "\n",
        "def update_probabilities(prob_grid, bot_pos, heard_ping, alpha, grid):\n",
        "    new_prob_grid = np.zeros_like(prob_grid)\n",
        "    total_prob = 0\n",
        "    for x in range(GRID_SIZE):\n",
        "        for y in range(GRID_SIZE):\n",
        "            if grid[x, y] == 0:  # Only open cells\n",
        "                dist = manhattan_distance(bot_pos, (x, y))\n",
        "                prob_ping = ping_probability(dist, alpha)\n",
        "                if heard_ping:\n",
        "                    new_prob_grid[x, y] = prob_grid[x, y] * prob_ping\n",
        "                else:\n",
        "                    new_prob_grid[x, y] = prob_grid[x, y] * (1 - prob_ping)\n",
        "                total_prob += new_prob_grid[x, y]\n",
        "    new_prob_grid /= total_prob  # Normalize probabilities\n",
        "    return new_prob_grid"
      ],
      "metadata": {
        "id": "ELzv33m_X6pt",
        "trusted": true,
        "execution": {
          "iopub.status.busy": "2024-11-12T20:15:37.317044Z",
          "iopub.execute_input": "2024-11-12T20:15:37.317416Z",
          "iopub.status.idle": "2024-11-12T20:15:37.328798Z",
          "shell.execute_reply.started": "2024-11-12T20:15:37.317384Z",
          "shell.execute_reply": "2024-11-12T20:15:37.327558Z"
        }
      },
      "outputs": [],
      "execution_count": 17
    },
    {
      "cell_type": "markdown",
      "source": [
        "## 5. Determining Rat's most likely position in the Grid:"
      ],
      "metadata": {
        "id": "XnCCxFvqYChD"
      }
    },
    {
      "cell_type": "code",
      "source": [
        "def most_likely_rat_location(prob_grid):\n",
        "    return np.unravel_index(np.argmax(prob_grid, axis=None), prob_grid.shape)"
      ],
      "metadata": {
        "id": "YFQDmubnX-RT",
        "trusted": true,
        "execution": {
          "iopub.status.busy": "2024-11-12T20:15:37.330629Z",
          "iopub.execute_input": "2024-11-12T20:15:37.331005Z",
          "iopub.status.idle": "2024-11-12T20:15:37.341336Z",
          "shell.execute_reply.started": "2024-11-12T20:15:37.330961Z",
          "shell.execute_reply": "2024-11-12T20:15:37.340529Z"
        }
      },
      "outputs": [],
      "execution_count": 18
    },
    {
      "cell_type": "markdown",
      "source": [
        "## 6. Simulate Rat with the Detector:"
      ],
      "metadata": {
        "id": "IOY0W6s8YNyF"
      }
    },
    {
      "cell_type": "code",
      "source": [
        "def space_rat_detector(bot_pos, rat_pos, alpha):\n",
        "    distance = manhattan_distance(bot_pos, rat_pos)\n",
        "    prob = ping_probability(distance, alpha)\n",
        "    return random.random() < prob"
      ],
      "metadata": {
        "id": "J9hQ7HmgYNS-",
        "trusted": true,
        "execution": {
          "iopub.status.busy": "2024-11-12T20:15:37.342338Z",
          "iopub.execute_input": "2024-11-12T20:15:37.342639Z",
          "iopub.status.idle": "2024-11-12T20:15:37.352301Z",
          "shell.execute_reply.started": "2024-11-12T20:15:37.342607Z",
          "shell.execute_reply": "2024-11-12T20:15:37.351521Z"
        }
      },
      "outputs": [],
      "execution_count": 19
    },
    {
      "cell_type": "markdown",
      "source": [
        "## Case 1: Non-Moving Space Rat Situation:"
      ],
      "metadata": {
        "id": "nueDaCbfK6hG"
      }
    },
    {
      "cell_type": "markdown",
      "source": [
        "### Baseline Bot:"
      ],
      "metadata": {
        "id": "gQCrnm81YT83"
      }
    },
    {
      "cell_type": "markdown",
      "source": [
        "Actions performed by the baseline bot are as below:\n",
        "\n",
        "Step 1: Listen for a Ping using 'heard_ping'\n",
        "\n",
        "Step 2: Update the probability grid based on the ping using 'prob_grid'\n",
        "\n",
        "Step 3: Identify and Commit to the most likely cell using 'target_pos'\n",
        "\n",
        "Step 4: Performs movemen to the target cell and returned the position at which the Rat was caught"
      ],
      "metadata": {
        "id": "vokRAjIBL1_k"
      }
    },
    {
      "cell_type": "code",
      "source": [
        "def baselinebot(grid, bot_pos, rat_pos, prob_grid, alpha):\n",
        "    actions_taken = 0\n",
        "    while True:\n",
        "        # Step 1: Listen for a ping\n",
        "        heard_ping = space_rat_detector(bot_pos, rat_pos, alpha)\n",
        "        # Step 2: Update probability grid based on ping\n",
        "        prob_grid = update_probabilities(prob_grid, bot_pos, heard_ping, alpha, grid)\n",
        "        # Step 3: Identify and commit to the most likely cell\n",
        "        target_pos = most_likely_rat_location(prob_grid)\n",
        "        # Step 4: Move all the way to the target cell\n",
        "        while bot_pos != target_pos:\n",
        "            # Determine the direction to move toward the target cell\n",
        "            bot_x, bot_y = bot_pos\n",
        "            target_x, target_y = target_pos\n",
        "            if target_x > bot_x:\n",
        "                bot_pos = (bot_x + 1, bot_y)\n",
        "            elif target_x < bot_x:\n",
        "                bot_pos = (bot_x - 1, bot_y)\n",
        "            elif target_y > bot_y:\n",
        "                bot_pos = (bot_x, bot_y + 1)\n",
        "            else:\n",
        "                bot_pos = (bot_x, bot_y - 1)\n",
        "            actions_taken += 1\n",
        "            # Check if bot has reached the rat's position\n",
        "            if bot_pos == rat_pos:\n",
        "                print(f\"Rat caught at position {bot_pos} after {actions_taken} actions!\")\n",
        "                return actions_taken"
      ],
      "metadata": {
        "id": "AkR3NXqZYISg",
        "trusted": true,
        "execution": {
          "iopub.status.busy": "2024-11-12T20:15:37.353355Z",
          "iopub.execute_input": "2024-11-12T20:15:37.353692Z",
          "iopub.status.idle": "2024-11-12T20:15:37.363582Z",
          "shell.execute_reply.started": "2024-11-12T20:15:37.353646Z",
          "shell.execute_reply": "2024-11-12T20:15:37.362782Z"
        }
      },
      "outputs": [],
      "execution_count": 20
    },
    {
      "cell_type": "code",
      "source": [
        "actions_taken = baselinebot(ship_grid, bot_position, rat_position, prob_grid, alpha)\n",
        "print(\"Total actions taken to catch the rat:\", actions_taken)"
      ],
      "metadata": {
        "id": "OTXqrHJAYd5_",
        "trusted": true,
        "execution": {
          "iopub.status.busy": "2024-11-12T20:16:38.840311Z",
          "iopub.execute_input": "2024-11-12T20:16:38.840692Z",
          "iopub.status.idle": "2024-11-12T20:16:38.855585Z",
          "shell.execute_reply.started": "2024-11-12T20:16:38.840655Z",
          "shell.execute_reply": "2024-11-12T20:16:38.854665Z"
        },
        "outputId": "171af3b3-d415-4a6c-d909-17c892d924bc",
        "colab": {
          "base_uri": "https://localhost:8080/"
        }
      },
      "outputs": [
        {
          "output_type": "stream",
          "name": "stdout",
          "text": [
            "Rat caught at position (8, 15) after 164 actions!\n",
            "Total actions taken to catch the rat: 164\n"
          ]
        }
      ],
      "execution_count": 21
    },
    {
      "cell_type": "markdown",
      "source": [
        "### Our Bot:"
      ],
      "metadata": {
        "id": "20n-C1FIcgCS"
      }
    },
    {
      "cell_type": "code",
      "source": [
        "def a_star(grid, start, goal):\n",
        "    # Use defaultdict to avoid key checks\n",
        "    g_score = defaultdict(lambda: float('inf'))\n",
        "    g_score[start] = 0\n",
        "    f_score = defaultdict(lambda: float('inf'))\n",
        "    f_score[start] = manhattan_distance(start, goal)\n",
        "    # Pre-compute grid dimensions\n",
        "    rows, cols = len(grid), len(grid[0])\n",
        "    # Pre-compute valid moves\n",
        "    MOVES = [(0, 1), (0, -1), (1, 0), (-1, 0)]\n",
        "    open_set = [(f_score[start], start)]\n",
        "    came_from = {}\n",
        "    while open_set:\n",
        "        current = heapq.heappop(open_set)[1]\n",
        "        if current == goal:\n",
        "            # Reconstruct path more efficiently\n",
        "            path = []\n",
        "            while current in came_from:\n",
        "                path.append(current)\n",
        "                current = came_from[current]\n",
        "            return path[::-1]  # Reverse path more efficiently\n",
        "        current_g = g_score[current]\n",
        "        # Optimize neighbor checking\n",
        "        x, y = current\n",
        "        for dx, dy in MOVES:\n",
        "            nx, ny = x + dx, y + dy\n",
        "            if (0 <= nx < rows and 0 <= ny < cols and grid[nx][ny] == 0):\n",
        "                neighbor = (nx, ny)\n",
        "                tentative_g = current_g + 1\n",
        "                if tentative_g < g_score[neighbor]:\n",
        "                    came_from[neighbor] = current\n",
        "                    g_score[neighbor] = tentative_g\n",
        "                    f = tentative_g + manhattan_distance(neighbor, goal)\n",
        "                    f_score[neighbor] = f\n",
        "                    heapq.heappush(open_set, (f, neighbor))\n",
        "    return None"
      ],
      "metadata": {
        "id": "42UM0W-85Axc",
        "trusted": true,
        "execution": {
          "iopub.status.busy": "2024-11-12T20:15:37.387546Z",
          "iopub.execute_input": "2024-11-12T20:15:37.387822Z",
          "iopub.status.idle": "2024-11-12T20:15:37.411326Z",
          "shell.execute_reply.started": "2024-11-12T20:15:37.387792Z",
          "shell.execute_reply": "2024-11-12T20:15:37.410537Z"
        }
      },
      "outputs": [],
      "execution_count": 22
    },
    {
      "cell_type": "code",
      "source": [
        "def ourbot(grid, bot_pos, rat_pos, prob_grid, alpha, threshold_factor=0.8):\n",
        "    actions_taken = 0\n",
        "    rows, cols = len(grid), len(grid[0])\n",
        "    # Pre-compute grid properties\n",
        "    mean_prob = np.mean(prob_grid)\n",
        "    last_target = None\n",
        "    consecutive_failed_attempts = 0\n",
        "    MAX_FAILED_ATTEMPTS = 3\n",
        "    # Create a memory of visited high-probability locations\n",
        "    visited_targets = set()\n",
        "    while actions_taken < rows * cols * 2:  # Add reasonable maximum steps\n",
        "        heard_ping = space_rat_detector(bot_pos, rat_pos, alpha)\n",
        "        prob_grid = update_probabilities(prob_grid, bot_pos, heard_ping, alpha, grid)\n",
        "        # Get top N most likely positions\n",
        "        flat_indices = np.argsort(prob_grid.ravel())[-5:]  # Consider top 5 positions\n",
        "        potential_targets = [(idx // cols, idx % cols) for idx in flat_indices]\n",
        "        # Filter out previously visited targets and blocked cells\n",
        "        valid_targets = [pos for pos in potential_targets\n",
        "                        if pos not in visited_targets\n",
        "                        and grid[pos[0]][pos[1]] == 0\n",
        "                        and prob_grid[pos] >= threshold_factor * mean_prob]\n",
        "        if valid_targets:\n",
        "            target_pos = valid_targets[-1]  # Most likely unvisited position\n",
        "            path = a_star(grid, bot_pos, target_pos)\n",
        "            if path:\n",
        "                # Move along path efficiently\n",
        "                next_pos = path[0]\n",
        "                bot_pos = next_pos\n",
        "                actions_taken += 1\n",
        "                if bot_pos == rat_pos:\n",
        "                    return actions_taken\n",
        "                if bot_pos == target_pos:\n",
        "                    visited_targets.add(target_pos)\n",
        "                    consecutive_failed_attempts = 0\n",
        "            else:\n",
        "                consecutive_failed_attempts += 1\n",
        "                if consecutive_failed_attempts >= MAX_FAILED_ATTEMPTS:\n",
        "                    # Reset strategy if stuck\n",
        "                    visited_targets.clear()\n",
        "                    consecutive_failed_attempts = 0\n",
        "                # Smart random move based on probability gradient\n",
        "                possible_moves = [(bot_pos[0] + dx, bot_pos[1] + dy) for dx, dy in [(0, 1), (0, -1), (1, 0), (-1, 0)]]\n",
        "                valid_moves = [(x, y) for x, y in possible_moves\n",
        "                              if 0 <= x < rows and 0 <= y < cols and grid[x][y] == 0]\n",
        "                if valid_moves:\n",
        "                    bot_pos = max(valid_moves, key=lambda pos: prob_grid[pos])\n",
        "                    actions_taken += 1\n",
        "        else:\n",
        "            # Reset visited targets if all high-probability locations have been checked\n",
        "            visited_targets.clear()\n",
        "        if actions_taken % (rows * cols // 4) == 0:\n",
        "            # Periodically reset probability grid to avoid getting stuck in local maxima\n",
        "            prob_grid = np.ones_like(prob_grid) / (rows * cols)\n",
        "    return actions_taken"
      ],
      "metadata": {
        "id": "L8UA3MyeEOrQ"
      },
      "execution_count": 23,
      "outputs": []
    },
    {
      "cell_type": "code",
      "source": [
        "actions_taken_by_ourbot = ourbot(ship_grid, bot_position, rat_position, prob_grid, alpha)\n",
        "print(\"Total actions taken to catch the rat:\", actions_taken_by_ourbot)"
      ],
      "metadata": {
        "id": "-xIVsa_E9FUr",
        "trusted": true,
        "execution": {
          "iopub.status.busy": "2024-11-12T20:16:14.074911Z",
          "iopub.execute_input": "2024-11-12T20:16:14.075746Z",
          "iopub.status.idle": "2024-11-12T20:16:14.209516Z",
          "shell.execute_reply.started": "2024-11-12T20:16:14.075703Z",
          "shell.execute_reply": "2024-11-12T20:16:14.208616Z"
        },
        "outputId": "7d67517b-3a1b-4b15-9aa6-ba839ec42896",
        "colab": {
          "base_uri": "https://localhost:8080/"
        }
      },
      "outputs": [
        {
          "output_type": "stream",
          "name": "stdout",
          "text": [
            "Total actions taken to catch the rat: 62\n"
          ]
        }
      ],
      "execution_count": 24
    },
    {
      "cell_type": "markdown",
      "source": [
        "## Case 2: Moving Space Rat Situation:"
      ],
      "metadata": {
        "id": "VTQH8AKnIPhc"
      }
    },
    {
      "cell_type": "markdown",
      "source": [
        "### 1. Rat Movement Function:"
      ],
      "metadata": {
        "id": "w28Vf22APMW2"
      }
    },
    {
      "cell_type": "code",
      "source": [
        "def move_rat(grid, rat_pos):\n",
        "    directions = [(0, 1), (0, -1), (1, 0), (-1, 0)]  # Right, Left, Down, Up\n",
        "    random.shuffle(directions)  # Shuffle to pick a random valid move\n",
        "    for dx, dy in directions:\n",
        "        nx, ny = rat_pos[0] + dx, rat_pos[1] + dy\n",
        "        if 0 <= nx < GRID_SIZE and 0 <= ny < GRID_SIZE and grid[nx, ny] == 0:\n",
        "            return (nx, ny)  # Return new position if open\n",
        "    return rat_pos  # Stay in the same position if no open cells"
      ],
      "metadata": {
        "trusted": true,
        "id": "REVJp6bqxVPY"
      },
      "outputs": [],
      "execution_count": 25
    },
    {
      "cell_type": "markdown",
      "source": [
        "### 2. Baseline Bot:"
      ],
      "metadata": {
        "id": "YPSoYL_GQa6k"
      }
    },
    {
      "cell_type": "code",
      "source": [
        "def baselinebot_rat_movement(grid, bot_pos, rat_pos, prob_grid, alpha):\n",
        "    actions_taken = 0\n",
        "    while True:\n",
        "        # Step 1: Move the rat\n",
        "        rat_pos = move_rat(grid, rat_pos)\n",
        "        # Step 2: Listen for a ping\n",
        "        heard_ping = space_rat_detector(bot_pos, rat_pos, alpha)\n",
        "        # Step 3: Update probability grid based on ping\n",
        "        prob_grid = update_probabilities(prob_grid, bot_pos, heard_ping, alpha, grid)\n",
        "        # Step 4: Find the most likely position of the rat\n",
        "        target_pos = most_likely_rat_location(prob_grid)\n",
        "        print(f\"Bot Position: {bot_pos}, Rat Position: {rat_pos}\")\n",
        "        # Move the bot step by step to the target position\n",
        "        while bot_pos != target_pos:\n",
        "            bot_x, bot_y = bot_pos\n",
        "            target_x, target_y = target_pos\n",
        "            # Determine the direction to move\n",
        "            if target_x > bot_x:\n",
        "                bot_pos = (bot_x + 1, bot_y)\n",
        "            elif target_x < bot_x:\n",
        "                bot_pos = (bot_x - 1, bot_y)\n",
        "            elif target_y > bot_y:\n",
        "                bot_pos = (bot_x, bot_y + 1)\n",
        "            elif target_y < bot_y:\n",
        "                bot_pos = (bot_x, bot_y - 1)\n",
        "            actions_taken += 1\n",
        "            print(f\"Moving Bot to {bot_pos}, Rat Position: {rat_pos}, Actions Taken: {actions_taken}\")\n",
        "            # Check if bot has caught the rat\n",
        "            if bot_pos == rat_pos:\n",
        "                print(f\"Rat caught at position {bot_pos} after {actions_taken} actions!\")\n",
        "                return actions_taken\n",
        "            # Update rat position dynamically\n",
        "            rat_pos = move_rat(grid, rat_pos)\n",
        "            # Recalculate target position if the rat moves\n",
        "            prob_grid = update_probabilities(prob_grid, bot_pos, heard_ping, alpha, grid)\n",
        "            target_pos = most_likely_rat_location(prob_grid)"
      ],
      "metadata": {
        "id": "7VLD1pRNPuxI"
      },
      "execution_count": 26,
      "outputs": []
    },
    {
      "cell_type": "code",
      "source": [
        "actions_taken_by_baselinebot_with_rat_movement = baselinebot_rat_movement(ship_grid, bot_position, rat_position, prob_grid, alpha)\n",
        "actions_taken_by_baselinebot_with_rat_movement"
      ],
      "metadata": {
        "colab": {
          "base_uri": "https://localhost:8080/"
        },
        "id": "so2QI-tXQmc7",
        "outputId": "506f73ba-7172-475a-817a-753893f3de93"
      },
      "execution_count": 27,
      "outputs": [
        {
          "output_type": "stream",
          "name": "stdout",
          "text": [
            "Bot Position: (28, 3), Rat Position: (9, 15)\n",
            "Rat caught at position (21, 4) after 3626 actions!\n"
          ]
        },
        {
          "output_type": "execute_result",
          "data": {
            "text/plain": [
              "3626"
            ]
          },
          "metadata": {},
          "execution_count": 27
        }
      ]
    },
    {
      "cell_type": "markdown",
      "source": [
        "### 3. Our Bot:"
      ],
      "metadata": {
        "id": "T_YZcUNGPl0j"
      }
    },
    {
      "cell_type": "code",
      "source": [
        "def ourbot_rat_movement(grid, bot_pos, rat_pos, prob_grid, alpha, threshold_factor=0.8):\n",
        "    actions_taken = 0\n",
        "    rows, cols = len(grid), len(grid[0])\n",
        "    # Pre-compute grid properties\n",
        "    mean_prob = np.mean(prob_grid)\n",
        "    last_target = None\n",
        "    consecutive_failed_attempts = 0\n",
        "    MAX_FAILED_ATTEMPTS = 3\n",
        "    # Create a memory of visited high-probability locations\n",
        "    visited_targets = set()\n",
        "    while actions_taken < rows * cols * 2:  # Add reasonable maximum steps\n",
        "        rat_pos = move_rat(grid, rat_pos)\n",
        "        heard_ping = space_rat_detector(bot_pos, rat_pos, alpha)\n",
        "        prob_grid = update_probabilities(prob_grid, bot_pos, heard_ping, alpha, grid)\n",
        "        print(f\"Bot Position: {bot_pos}, Rat Position: {rat_pos}, Actions Taken: {actions_taken}\")\n",
        "        # Get top N most likely positions\n",
        "        flat_indices = np.argsort(prob_grid.ravel())[-5:]  # Consider top 5 positions\n",
        "        potential_targets = [(idx // cols, idx % cols) for idx in flat_indices]\n",
        "        # Filter out previously visited targets and blocked cells\n",
        "        valid_targets = [pos for pos in potential_targets\n",
        "                        if pos not in visited_targets\n",
        "                        and grid[pos[0]][pos[1]] == 0\n",
        "                        and prob_grid[pos] >= threshold_factor * mean_prob]\n",
        "        if valid_targets:\n",
        "            target_pos = valid_targets[-1]  # Most likely unvisited position\n",
        "            path = a_star(grid, bot_pos, target_pos)\n",
        "            if path:\n",
        "                # Move along path efficiently\n",
        "                next_pos = path[0]\n",
        "                bot_pos = next_pos\n",
        "                actions_taken += 1\n",
        "                rat_pos = move_rat(grid, rat_pos)  # Move the rat at each bot step\n",
        "                print(f\"Bot Position: {bot_pos}, Rat Position: {rat_pos}, Actions Taken: {actions_taken}\")\n",
        "                if bot_pos == rat_pos:\n",
        "                    print(f\"Rat caught at position {bot_pos} after {actions_taken} actions!\")\n",
        "                    return actions_taken\n",
        "                if bot_pos == target_pos:\n",
        "                    visited_targets.add(target_pos)\n",
        "                    consecutive_failed_attempts = 0\n",
        "            else:\n",
        "                consecutive_failed_attempts += 1\n",
        "                if consecutive_failed_attempts >= MAX_FAILED_ATTEMPTS:\n",
        "                    # Reset strategy if stuck\n",
        "                    visited_targets.clear()\n",
        "                    consecutive_failed_attempts = 0\n",
        "                # Smart random move based on probability gradient\n",
        "                possible_moves = [(bot_pos[0] + dx, bot_pos[1] + dy) for dx, dy in [(0, 1), (0, -1), (1, 0), (-1, 0)]]\n",
        "                valid_moves = [(x, y) for x, y in possible_moves\n",
        "                              if 0 <= x < rows and 0 <= y < cols and grid[x][y] == 0]\n",
        "                if valid_moves:\n",
        "                    bot_pos = max(valid_moves, key=lambda pos: prob_grid[pos])\n",
        "                    actions_taken += 1\n",
        "        else:\n",
        "            # Reset visited targets if all high-probability locations have been checked\n",
        "            visited_targets.clear()\n",
        "        if actions_taken % (rows * cols // 4) == 0:\n",
        "            # Periodically reset probability grid to avoid getting stuck in local maxima\n",
        "            prob_grid = np.ones_like(prob_grid) / (rows * cols)\n",
        "    return actions_taken"
      ],
      "metadata": {
        "id": "R9K5T131IT5k"
      },
      "execution_count": 28,
      "outputs": []
    },
    {
      "cell_type": "code",
      "source": [
        "actions_taken_by_ourbot_with_rat_movement = ourbot_rat_movement(ship_grid, bot_position, rat_position, prob_grid, alpha)\n",
        "actions_taken_by_ourbot_with_rat_movement"
      ],
      "metadata": {
        "colab": {
          "base_uri": "https://localhost:8080/"
        },
        "id": "azTb8joOJoyj",
        "outputId": "09a47ae0-c9d4-4a2d-c72e-f1ab9c1bfa55"
      },
      "execution_count": 29,
      "outputs": [
        {
          "output_type": "stream",
          "name": "stdout",
          "text": [
            "Bot Position: (28, 3), Rat Position: (9, 15), Actions Taken: 0\n",
            "Bot Position: (27, 3), Rat Position: (9, 14), Actions Taken: 1\n",
            "Bot Position: (27, 3), Rat Position: (9, 15), Actions Taken: 1\n",
            "Bot Position: (27, 4), Rat Position: (8, 15), Actions Taken: 2\n",
            "Bot Position: (27, 4), Rat Position: (9, 15), Actions Taken: 2\n",
            "Bot Position: (26, 4), Rat Position: (9, 14), Actions Taken: 3\n",
            "Bot Position: (26, 4), Rat Position: (9, 15), Actions Taken: 3\n",
            "Bot Position: (25, 4), Rat Position: (9, 14), Actions Taken: 4\n",
            "Bot Position: (25, 4), Rat Position: (9, 15), Actions Taken: 4\n",
            "Bot Position: (24, 4), Rat Position: (9, 14), Actions Taken: 5\n",
            "Bot Position: (24, 4), Rat Position: (9, 15), Actions Taken: 5\n",
            "Bot Position: (23, 4), Rat Position: (8, 15), Actions Taken: 6\n",
            "Bot Position: (23, 4), Rat Position: (9, 15), Actions Taken: 6\n",
            "Bot Position: (22, 4), Rat Position: (8, 15), Actions Taken: 7\n",
            "Bot Position: (22, 4), Rat Position: (9, 15), Actions Taken: 7\n",
            "Bot Position: (21, 4), Rat Position: (9, 14), Actions Taken: 8\n",
            "Bot Position: (21, 4), Rat Position: (9, 15), Actions Taken: 8\n",
            "Bot Position: (21, 3), Rat Position: (9, 16), Actions Taken: 9\n",
            "Bot Position: (21, 3), Rat Position: (9, 17), Actions Taken: 9\n",
            "Bot Position: (20, 3), Rat Position: (10, 17), Actions Taken: 10\n",
            "Bot Position: (20, 3), Rat Position: (11, 17), Actions Taken: 10\n",
            "Bot Position: (20, 2), Rat Position: (12, 17), Actions Taken: 11\n",
            "Bot Position: (20, 3), Rat Position: (11, 17), Actions Taken: 12\n",
            "Bot Position: (20, 2), Rat Position: (11, 16), Actions Taken: 13\n",
            "Bot Position: (20, 3), Rat Position: (11, 17), Actions Taken: 14\n",
            "Bot Position: (20, 3), Rat Position: (11, 16), Actions Taken: 14\n",
            "Bot Position: (19, 3), Rat Position: (11, 17), Actions Taken: 15\n",
            "Bot Position: (19, 3), Rat Position: (12, 17), Actions Taken: 15\n",
            "Bot Position: (19, 4), Rat Position: (11, 17), Actions Taken: 16\n",
            "Bot Position: (19, 4), Rat Position: (11, 16), Actions Taken: 16\n",
            "Bot Position: (19, 5), Rat Position: (11, 17), Actions Taken: 17\n",
            "Bot Position: (19, 5), Rat Position: (11, 16), Actions Taken: 17\n",
            "Bot Position: (18, 5), Rat Position: (11, 17), Actions Taken: 18\n",
            "Bot Position: (18, 5), Rat Position: (11, 16), Actions Taken: 18\n",
            "Bot Position: (17, 5), Rat Position: (11, 17), Actions Taken: 19\n",
            "Bot Position: (17, 5), Rat Position: (12, 17), Actions Taken: 19\n",
            "Bot Position: (17, 6), Rat Position: (11, 17), Actions Taken: 20\n",
            "Bot Position: (17, 6), Rat Position: (10, 17), Actions Taken: 20\n",
            "Bot Position: (17, 7), Rat Position: (9, 17), Actions Taken: 21\n",
            "Bot Position: (17, 7), Rat Position: (9, 18), Actions Taken: 21\n",
            "Bot Position: (16, 7), Rat Position: (9, 17), Actions Taken: 22\n",
            "Bot Position: (16, 7), Rat Position: (9, 18), Actions Taken: 22\n",
            "Bot Position: (16, 8), Rat Position: (9, 19), Actions Taken: 23\n",
            "Bot Position: (16, 8), Rat Position: (9, 18), Actions Taken: 23\n",
            "Bot Position: (15, 8), Rat Position: (9, 17), Actions Taken: 24\n",
            "Bot Position: (15, 8), Rat Position: (9, 16), Actions Taken: 24\n",
            "Bot Position: (15, 7), Rat Position: (9, 15), Actions Taken: 25\n",
            "Bot Position: (15, 7), Rat Position: (9, 14), Actions Taken: 25\n",
            "Bot Position: (15, 8), Rat Position: (9, 15), Actions Taken: 26\n",
            "Bot Position: (15, 8), Rat Position: (9, 16), Actions Taken: 26\n",
            "Bot Position: (15, 7), Rat Position: (9, 15), Actions Taken: 27\n",
            "Bot Position: (15, 7), Rat Position: (9, 16), Actions Taken: 27\n",
            "Bot Position: (15, 8), Rat Position: (9, 15), Actions Taken: 28\n",
            "Bot Position: (15, 8), Rat Position: (10, 15), Actions Taken: 28\n",
            "Bot Position: (15, 9), Rat Position: (9, 15), Actions Taken: 29\n",
            "Bot Position: (15, 9), Rat Position: (10, 15), Actions Taken: 29\n",
            "Bot Position: (15, 8), Rat Position: (9, 15), Actions Taken: 30\n",
            "Bot Position: (15, 8), Rat Position: (8, 15), Actions Taken: 30\n",
            "Bot Position: (15, 9), Rat Position: (9, 15), Actions Taken: 31\n",
            "Bot Position: (15, 8), Rat Position: (8, 15), Actions Taken: 32\n",
            "Bot Position: (15, 8), Rat Position: (9, 15), Actions Taken: 32\n",
            "Bot Position: (15, 9), Rat Position: (9, 14), Actions Taken: 33\n",
            "Bot Position: (15, 9), Rat Position: (9, 15), Actions Taken: 33\n",
            "Bot Position: (15, 8), Rat Position: (10, 15), Actions Taken: 34\n",
            "Bot Position: (15, 8), Rat Position: (9, 15), Actions Taken: 34\n",
            "Bot Position: (15, 7), Rat Position: (10, 15), Actions Taken: 35\n",
            "Bot Position: (15, 7), Rat Position: (9, 15), Actions Taken: 35\n",
            "Bot Position: (14, 7), Rat Position: (10, 15), Actions Taken: 36\n",
            "Bot Position: (14, 7), Rat Position: (9, 15), Actions Taken: 36\n",
            "Bot Position: (13, 7), Rat Position: (9, 16), Actions Taken: 37\n",
            "Bot Position: (13, 7), Rat Position: (9, 15), Actions Taken: 37\n",
            "Bot Position: (13, 8), Rat Position: (8, 15), Actions Taken: 38\n",
            "Bot Position: (13, 8), Rat Position: (9, 15), Actions Taken: 38\n",
            "Bot Position: (13, 9), Rat Position: (10, 15), Actions Taken: 39\n",
            "Bot Position: (13, 9), Rat Position: (9, 15), Actions Taken: 39\n",
            "Bot Position: (12, 9), Rat Position: (9, 16), Actions Taken: 40\n",
            "Bot Position: (12, 9), Rat Position: (9, 15), Actions Taken: 40\n",
            "Bot Position: (11, 9), Rat Position: (9, 16), Actions Taken: 41\n",
            "Bot Position: (11, 9), Rat Position: (9, 17), Actions Taken: 41\n",
            "Bot Position: (11, 10), Rat Position: (10, 17), Actions Taken: 42\n",
            "Bot Position: (11, 10), Rat Position: (10, 18), Actions Taken: 42\n",
            "Bot Position: (12, 10), Rat Position: (10, 17), Actions Taken: 43\n",
            "Bot Position: (12, 10), Rat Position: (10, 18), Actions Taken: 43\n",
            "Bot Position: (12, 11), Rat Position: (9, 18), Actions Taken: 44\n",
            "Bot Position: (12, 11), Rat Position: (9, 17), Actions Taken: 44\n",
            "Bot Position: (11, 11), Rat Position: (8, 17), Actions Taken: 45\n",
            "Bot Position: (11, 11), Rat Position: (8, 18), Actions Taken: 45\n",
            "Bot Position: (10, 11), Rat Position: (7, 18), Actions Taken: 46\n",
            "Bot Position: (10, 11), Rat Position: (6, 18), Actions Taken: 46\n",
            "Bot Position: (11, 11), Rat Position: (6, 17), Actions Taken: 47\n",
            "Bot Position: (11, 11), Rat Position: (6, 16), Actions Taken: 47\n",
            "Bot Position: (12, 11), Rat Position: (7, 16), Actions Taken: 48\n",
            "Bot Position: (12, 11), Rat Position: (7, 17), Actions Taken: 48\n",
            "Bot Position: (12, 10), Rat Position: (6, 17), Actions Taken: 49\n",
            "Bot Position: (12, 10), Rat Position: (7, 17), Actions Taken: 49\n",
            "Bot Position: (12, 9), Rat Position: (8, 17), Actions Taken: 50\n",
            "Bot Position: (12, 9), Rat Position: (7, 17), Actions Taken: 50\n",
            "Bot Position: (13, 9), Rat Position: (6, 17), Actions Taken: 51\n",
            "Bot Position: (13, 9), Rat Position: (6, 16), Actions Taken: 51\n",
            "Bot Position: (13, 8), Rat Position: (7, 16), Actions Taken: 52\n",
            "Bot Position: (13, 8), Rat Position: (6, 16), Actions Taken: 52\n",
            "Bot Position: (13, 7), Rat Position: (6, 15), Actions Taken: 53\n",
            "Bot Position: (13, 7), Rat Position: (6, 14), Actions Taken: 53\n",
            "Bot Position: (14, 7), Rat Position: (7, 14), Actions Taken: 54\n",
            "Bot Position: (14, 7), Rat Position: (6, 14), Actions Taken: 54\n",
            "Bot Position: (15, 7), Rat Position: (7, 14), Actions Taken: 55\n",
            "Bot Position: (15, 7), Rat Position: (6, 14), Actions Taken: 55\n",
            "Bot Position: (15, 8), Rat Position: (6, 13), Actions Taken: 56\n",
            "Bot Position: (15, 8), Rat Position: (6, 14), Actions Taken: 56\n",
            "Bot Position: (15, 9), Rat Position: (6, 13), Actions Taken: 57\n",
            "Bot Position: (15, 9), Rat Position: (6, 12), Actions Taken: 57\n",
            "Bot Position: (15, 10), Rat Position: (5, 12), Actions Taken: 58\n",
            "Bot Position: (15, 10), Rat Position: (6, 12), Actions Taken: 58\n",
            "Bot Position: (14, 10), Rat Position: (7, 12), Actions Taken: 59\n",
            "Bot Position: (14, 10), Rat Position: (7, 11), Actions Taken: 59\n",
            "Bot Position: (14, 11), Rat Position: (7, 12), Actions Taken: 60\n",
            "Bot Position: (14, 11), Rat Position: (6, 12), Actions Taken: 60\n",
            "Bot Position: (14, 12), Rat Position: (7, 12), Actions Taken: 61\n",
            "Bot Position: (14, 12), Rat Position: (6, 12), Actions Taken: 61\n",
            "Bot Position: (14, 13), Rat Position: (5, 12), Actions Taken: 62\n",
            "Bot Position: (14, 13), Rat Position: (5, 13), Actions Taken: 62\n",
            "Bot Position: (14, 14), Rat Position: (5, 14), Actions Taken: 63\n",
            "Bot Position: (14, 14), Rat Position: (5, 15), Actions Taken: 63\n",
            "Bot Position: (14, 15), Rat Position: (6, 15), Actions Taken: 64\n",
            "Bot Position: (14, 15), Rat Position: (5, 15), Actions Taken: 64\n",
            "Bot Position: (14, 14), Rat Position: (6, 15), Actions Taken: 65\n",
            "Bot Position: (14, 14), Rat Position: (6, 16), Actions Taken: 65\n",
            "Bot Position: (14, 15), Rat Position: (7, 16), Actions Taken: 66\n",
            "Bot Position: (14, 15), Rat Position: (7, 17), Actions Taken: 66\n",
            "Bot Position: (15, 15), Rat Position: (8, 17), Actions Taken: 67\n",
            "Bot Position: (15, 15), Rat Position: (8, 18), Actions Taken: 67\n",
            "Bot Position: (15, 16), Rat Position: (8, 17), Actions Taken: 68\n",
            "Bot Position: (15, 16), Rat Position: (8, 18), Actions Taken: 68\n",
            "Bot Position: (15, 17), Rat Position: (9, 18), Actions Taken: 69\n",
            "Bot Position: (15, 17), Rat Position: (9, 19), Actions Taken: 69\n",
            "Bot Position: (15, 18), Rat Position: (9, 18), Actions Taken: 70\n",
            "Bot Position: (15, 18), Rat Position: (8, 18), Actions Taken: 70\n",
            "Bot Position: (14, 18), Rat Position: (7, 18), Actions Taken: 71\n",
            "Bot Position: (14, 18), Rat Position: (7, 17), Actions Taken: 71\n",
            "Bot Position: (14, 19), Rat Position: (7, 18), Actions Taken: 72\n",
            "Bot Position: (14, 19), Rat Position: (6, 18), Actions Taken: 72\n",
            "Bot Position: (14, 20), Rat Position: (6, 19), Actions Taken: 73\n",
            "Bot Position: (14, 20), Rat Position: (6, 20), Actions Taken: 73\n",
            "Bot Position: (14, 21), Rat Position: (6, 19), Actions Taken: 74\n",
            "Bot Position: (14, 21), Rat Position: (5, 19), Actions Taken: 74\n",
            "Bot Position: (14, 22), Rat Position: (4, 19), Actions Taken: 75\n",
            "Bot Position: (14, 22), Rat Position: (4, 20), Actions Taken: 75\n",
            "Bot Position: (13, 22), Rat Position: (5, 20), Actions Taken: 76\n",
            "Bot Position: (13, 22), Rat Position: (6, 20), Actions Taken: 76\n",
            "Bot Position: (13, 23), Rat Position: (6, 19), Actions Taken: 77\n",
            "Bot Position: (13, 23), Rat Position: (5, 19), Actions Taken: 77\n",
            "Bot Position: (13, 24), Rat Position: (4, 19), Actions Taken: 78\n",
            "Bot Position: (13, 24), Rat Position: (5, 19), Actions Taken: 78\n",
            "Bot Position: (12, 24), Rat Position: (4, 19), Actions Taken: 79\n",
            "Bot Position: (13, 24), Rat Position: (3, 19), Actions Taken: 80\n",
            "Bot Position: (13, 24), Rat Position: (3, 20), Actions Taken: 80\n",
            "Bot Position: (12, 24), Rat Position: (4, 20), Actions Taken: 81\n",
            "Bot Position: (12, 24), Rat Position: (5, 20), Actions Taken: 81\n",
            "Bot Position: (11, 24), Rat Position: (4, 20), Actions Taken: 82\n",
            "Bot Position: (11, 24), Rat Position: (4, 19), Actions Taken: 82\n",
            "Bot Position: (10, 24), Rat Position: (5, 19), Actions Taken: 83\n",
            "Bot Position: (10, 24), Rat Position: (5, 20), Actions Taken: 83\n",
            "Bot Position: (9, 24), Rat Position: (4, 20), Actions Taken: 84\n",
            "Bot Position: (9, 24), Rat Position: (4, 19), Actions Taken: 84\n",
            "Bot Position: (9, 23), Rat Position: (3, 19), Actions Taken: 85\n",
            "Bot Position: (9, 23), Rat Position: (2, 19), Actions Taken: 85\n",
            "Bot Position: (8, 23), Rat Position: (3, 19), Actions Taken: 86\n",
            "Bot Position: (8, 23), Rat Position: (3, 20), Actions Taken: 86\n",
            "Bot Position: (7, 23), Rat Position: (4, 20), Actions Taken: 87\n",
            "Bot Position: (7, 23), Rat Position: (4, 19), Actions Taken: 87\n",
            "Bot Position: (7, 22), Rat Position: (5, 19), Actions Taken: 88\n",
            "Bot Position: (7, 22), Rat Position: (5, 20), Actions Taken: 88\n",
            "Bot Position: (7, 21), Rat Position: (5, 19), Actions Taken: 89\n",
            "Bot Position: (7, 21), Rat Position: (4, 19), Actions Taken: 89\n",
            "Bot Position: (7, 20), Rat Position: (3, 19), Actions Taken: 90\n",
            "Bot Position: (7, 20), Rat Position: (4, 19), Actions Taken: 90\n",
            "Bot Position: (6, 20), Rat Position: (3, 19), Actions Taken: 91\n",
            "Bot Position: (6, 20), Rat Position: (3, 20), Actions Taken: 91\n",
            "Bot Position: (6, 19), Rat Position: (3, 19), Actions Taken: 92\n",
            "Bot Position: (6, 19), Rat Position: (3, 20), Actions Taken: 92\n",
            "Bot Position: (6, 18), Rat Position: (3, 19), Actions Taken: 93\n",
            "Bot Position: (6, 18), Rat Position: (3, 20), Actions Taken: 93\n",
            "Bot Position: (7, 18), Rat Position: (4, 20), Actions Taken: 94\n",
            "Bot Position: (7, 18), Rat Position: (5, 20), Actions Taken: 94\n",
            "Bot Position: (8, 18), Rat Position: (6, 20), Actions Taken: 95\n",
            "Bot Position: (8, 18), Rat Position: (5, 20), Actions Taken: 95\n",
            "Bot Position: (9, 18), Rat Position: (5, 19), Actions Taken: 96\n",
            "Bot Position: (9, 18), Rat Position: (4, 19), Actions Taken: 96\n",
            "Bot Position: (10, 18), Rat Position: (3, 19), Actions Taken: 97\n",
            "Bot Position: (10, 18), Rat Position: (3, 20), Actions Taken: 97\n",
            "Bot Position: (9, 18), Rat Position: (4, 20), Actions Taken: 98\n",
            "Bot Position: (9, 18), Rat Position: (4, 19), Actions Taken: 98\n",
            "Bot Position: (8, 18), Rat Position: (5, 19), Actions Taken: 99\n",
            "Bot Position: (8, 18), Rat Position: (5, 20), Actions Taken: 99\n",
            "Bot Position: (8, 17), Rat Position: (5, 19), Actions Taken: 100\n",
            "Bot Position: (8, 18), Rat Position: (6, 19), Actions Taken: 101\n",
            "Bot Position: (8, 18), Rat Position: (5, 19), Actions Taken: 101\n",
            "Bot Position: (9, 18), Rat Position: (6, 19), Actions Taken: 102\n",
            "Bot Position: (9, 18), Rat Position: (6, 20), Actions Taken: 102\n",
            "Bot Position: (9, 19), Rat Position: (7, 20), Actions Taken: 103\n",
            "Bot Position: (9, 19), Rat Position: (6, 20), Actions Taken: 103\n",
            "Bot Position: (9, 18), Rat Position: (5, 20), Actions Taken: 104\n",
            "Bot Position: (9, 18), Rat Position: (4, 20), Actions Taken: 104\n",
            "Bot Position: (8, 18), Rat Position: (5, 20), Actions Taken: 105\n",
            "Bot Position: (8, 18), Rat Position: (5, 19), Actions Taken: 105\n",
            "Bot Position: (8, 17), Rat Position: (5, 20), Actions Taken: 106\n",
            "Bot Position: (8, 17), Rat Position: (4, 20), Actions Taken: 106\n",
            "Bot Position: (8, 18), Rat Position: (4, 19), Actions Taken: 107\n",
            "Bot Position: (8, 18), Rat Position: (4, 20), Actions Taken: 107\n",
            "Bot Position: (7, 18), Rat Position: (4, 19), Actions Taken: 108\n",
            "Bot Position: (7, 18), Rat Position: (5, 19), Actions Taken: 108\n",
            "Bot Position: (6, 18), Rat Position: (5, 20), Actions Taken: 109\n",
            "Bot Position: (6, 18), Rat Position: (5, 19), Actions Taken: 109\n",
            "Bot Position: (6, 19), Rat Position: (5, 20), Actions Taken: 110\n",
            "Bot Position: (6, 19), Rat Position: (4, 20), Actions Taken: 110\n",
            "Bot Position: (6, 20), Rat Position: (5, 20), Actions Taken: 111\n",
            "Bot Position: (6, 20), Rat Position: (5, 19), Actions Taken: 111\n",
            "Bot Position: (6, 21), Rat Position: (4, 19), Actions Taken: 112\n",
            "Bot Position: (6, 21), Rat Position: (3, 19), Actions Taken: 112\n",
            "Bot Position: (7, 21), Rat Position: (3, 18), Actions Taken: 113\n",
            "Bot Position: (7, 21), Rat Position: (3, 19), Actions Taken: 113\n",
            "Bot Position: (7, 22), Rat Position: (3, 20), Actions Taken: 114\n",
            "Bot Position: (7, 22), Rat Position: (3, 19), Actions Taken: 114\n",
            "Bot Position: (7, 23), Rat Position: (4, 19), Actions Taken: 115\n",
            "Bot Position: (7, 23), Rat Position: (4, 20), Actions Taken: 115\n",
            "Bot Position: (7, 23), Rat Position: (4, 19), Actions Taken: 115\n",
            "Bot Position: (7, 22), Rat Position: (5, 19), Actions Taken: 116\n",
            "Bot Position: (7, 22), Rat Position: (4, 19), Actions Taken: 116\n",
            "Bot Position: (7, 21), Rat Position: (5, 19), Actions Taken: 117\n",
            "Bot Position: (7, 21), Rat Position: (6, 19), Actions Taken: 117\n",
            "Bot Position: (7, 20), Rat Position: (6, 20), Actions Taken: 118\n",
            "Bot Position: (7, 20), Rat Position: (5, 20), Actions Taken: 118\n",
            "Bot Position: (6, 20), Rat Position: (6, 20), Actions Taken: 119\n",
            "Rat caught at position (6, 20) after 119 actions!\n"
          ]
        },
        {
          "output_type": "execute_result",
          "data": {
            "text/plain": [
              "119"
            ]
          },
          "metadata": {},
          "execution_count": 29
        }
      ]
    }
  ]
}
